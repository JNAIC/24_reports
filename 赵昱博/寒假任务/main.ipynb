{
 "cells": [
  {
   "cell_type": "code",
   "execution_count": 6,
   "metadata": {},
   "outputs": [],
   "source": [
    "import numpy as np\n",
    "import pandas as pd\n",
    "from sklearn.preprocessing import MinMaxScaler\n",
    "from sklearn.linear_model import LogisticRegression\n",
    "from sklearn.model_selection import train_test_split"
   ]
  },
  {
   "cell_type": "code",
   "execution_count": 2,
   "metadata": {},
   "outputs": [],
   "source": [
    "df=pd.read_csv('train.csv')\n",
    "df_2=pd.read_csv('test.csv')\n",
    "df_all=pd.concat([df,df_2],sort=False)\n",
    "df_all = df_all.iloc[:, :-1]"
   ]
  },
  {
   "cell_type": "code",
   "execution_count": 3,
   "metadata": {},
   "outputs": [
    {
     "name": "stdout",
     "output_type": "stream",
     "text": [
      "     PassengerId  Survived  Pclass  Name  Sex   Age  SibSp  Parch      Fare  \\\n",
      "0              1       0.0       3     0    0  22.0      1      0    7.2500   \n",
      "1              2       1.0       1     1    1  38.0      1      0   71.2833   \n",
      "2              3       1.0       3     2    1  26.0      0      0    7.9250   \n",
      "3              4       1.0       1     1    1  35.0      1      0   53.1000   \n",
      "4              5       0.0       3     0    0  35.0      0      0    8.0500   \n",
      "..           ...       ...     ...   ...  ...   ...    ...    ...       ...   \n",
      "413         1305       NaN       3     0    0  28.0      0      0    8.0500   \n",
      "414         1306       NaN       1    17    0  39.0      0      0  108.9000   \n",
      "415         1307       NaN       3     0    1  38.5      0      0    7.2500   \n",
      "416         1308       NaN       3     0    1  28.0      0      0    8.0500   \n",
      "417         1309       NaN       3     3    1  28.0      1      1   22.3583   \n",
      "\n",
      "     Embarked  \n",
      "0         0.0  \n",
      "1         1.0  \n",
      "2         0.0  \n",
      "3         0.0  \n",
      "4         0.0  \n",
      "..        ...  \n",
      "413       0.0  \n",
      "414       1.0  \n",
      "415       0.0  \n",
      "416       0.0  \n",
      "417       1.0  \n",
      "\n",
      "[1309 rows x 10 columns]\n"
     ]
    },
    {
     "name": "stderr",
     "output_type": "stream",
     "text": [
      "C:\\Users\\admin\\AppData\\Local\\Temp\\ipykernel_8280\\3248198929.py:7: FutureWarning: A value is trying to be set on a copy of a DataFrame or Series through chained assignment using an inplace method.\n",
      "The behavior will change in pandas 3.0. This inplace method will never work because the intermediate object on which we are setting values always behaves as a copy.\n",
      "\n",
      "For example, when doing 'df[col].method(value, inplace=True)', try using 'df.method({col: value}, inplace=True)' or df[col] = df[col].method(value) instead, to perform the operation inplace on the original object.\n",
      "\n",
      "\n",
      "  df_all[\"Age\"].fillna(x, inplace=True)\n",
      "C:\\Users\\admin\\AppData\\Local\\Temp\\ipykernel_8280\\3248198929.py:11: FutureWarning: Downcasting behavior in `replace` is deprecated and will be removed in a future version. To retain the old behavior, explicitly call `result.infer_objects(copy=False)`. To opt-in to the future behavior, set `pd.set_option('future.no_silent_downcasting', True)`\n",
      "  df_all['Sex'] = df['Sex'].replace({'male': 0, 'female': 1})\n",
      "C:\\Users\\admin\\AppData\\Local\\Temp\\ipykernel_8280\\3248198929.py:15: FutureWarning: Downcasting behavior in `replace` is deprecated and will be removed in a future version. To retain the old behavior, explicitly call `result.infer_objects(copy=False)`. To opt-in to the future behavior, set `pd.set_option('future.no_silent_downcasting', True)`\n",
      "  df_all['Name']=df_all['Name'].replace({' Mr': 0, ' Mrs': 1, ' Miss': 2,' Master': 3, ' Don': 4, ' Rev': 5, ' Dr': 6, ' Mme': 7, ' Ms': 8, ' Major': 9, ' Lady': 10, ' Sir': 11, ' Mlle': 12, ' Col': 13, ' Capt': 14, ' the Countess': 15, ' Jonkheer': 16, ' Dona': 17})\n",
      "C:\\Users\\admin\\AppData\\Local\\Temp\\ipykernel_8280\\3248198929.py:19: FutureWarning: Downcasting behavior in `replace` is deprecated and will be removed in a future version. To retain the old behavior, explicitly call `result.infer_objects(copy=False)`. To opt-in to the future behavior, set `pd.set_option('future.no_silent_downcasting', True)`\n",
      "  df_all['Embarked']=df_all['Embarked'].replace({'S': 0, 'C': 1, 'Q': 2})\n"
     ]
    }
   ],
   "source": [
    "#name前导处理，只保留‘ ’头衔部分，注意这里有空格，下面也要有\n",
    "df_all['Name'] = df_all['Name'].str.split(',').str[1].str.split('.').str[0]\n",
    "\n",
    "\n",
    "#处理age的缺失值\n",
    "x = df_all[\"Age\"].median()\n",
    "df_all[\"Age\"].fillna(x, inplace=True)\n",
    "\n",
    "\n",
    "#处理Sex的表述\n",
    "df_all['Sex'] = df['Sex'].replace({'male': 0, 'female': 1})\n",
    "\n",
    "\n",
    "#处理Nmae的表述，注意这里有空格\n",
    "df_all['Name']=df_all['Name'].replace({' Mr': 0, ' Mrs': 1, ' Miss': 2,' Master': 3, ' Don': 4, ' Rev': 5, ' Dr': 6, ' Mme': 7, ' Ms': 8, ' Major': 9, ' Lady': 10, ' Sir': 11, ' Mlle': 12, ' Col': 13, ' Capt': 14, ' the Countess': 15, ' Jonkheer': 16, ' Dona': 17})\n",
    "\n",
    "\n",
    "#处理Embarked的表述\n",
    "df_all['Embarked']=df_all['Embarked'].replace({'S': 0, 'C': 1, 'Q': 2})\n",
    "\n",
    "\n",
    "#删除Ticket和Cabin\n",
    "df_all.drop(['Ticket', 'Cabin'], axis=1, inplace=True)\n",
    "\n",
    "print(df_all)"
   ]
  },
  {
   "cell_type": "code",
   "execution_count": 5,
   "metadata": {},
   "outputs": [],
   "source": [
    "# scaler = MinMaxScaler()\n",
    "# df_all = scaler.fit_transform(df_all)\n",
    "# df_all"
   ]
  },
  {
   "cell_type": "code",
   "execution_count": null,
   "metadata": {},
   "outputs": [],
   "source": []
  }
 ],
 "metadata": {
  "kernelspec": {
   "display_name": "club",
   "language": "python",
   "name": "python3"
  },
  "language_info": {
   "codemirror_mode": {
    "name": "ipython",
    "version": 3
   },
   "file_extension": ".py",
   "mimetype": "text/x-python",
   "name": "python",
   "nbconvert_exporter": "python",
   "pygments_lexer": "ipython3",
   "version": "3.12.4"
  }
 },
 "nbformat": 4,
 "nbformat_minor": 2
}
