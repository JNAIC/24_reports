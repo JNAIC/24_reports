{
 "cells": [
  {
   "cell_type": "markdown",
   "metadata": {},
   "source": [
    "# 损失函数"
   ]
  },
  {
   "cell_type": "markdown",
   "metadata": {},
   "source": [
    "## 均方误差\n",
    "简单来讲就是方差"
   ]
  },
  {
   "cell_type": "code",
   "execution_count": 7,
   "metadata": {},
   "outputs": [],
   "source": [
    "import numpy as np\n",
    "def mean_squared_error(y,t):            #y,t是numpy数组\n",
    "    return 0.5*np.sum((y-t)**2)"
   ]
  },
  {
   "cell_type": "markdown",
   "metadata": {},
   "source": [
    "## 交叉熵误差\n",
    "### 交叉熵误差有如下几个功能\n",
    "只计算正确解的损失函数（毫无疑问提高效率）\n",
    "\n",
    "算的是自然对数，相对于线性对应关系来讲更能放大部分区间的损失\n",
    "\n",
    "下面是用python代码实现交叉熵误差计算的方式"
   ]
  },
  {
   "cell_type": "code",
   "execution_count": 8,
   "metadata": {},
   "outputs": [],
   "source": [
    "def cross_entropy_error(y,t):       #y,t是numpy数组\n",
    "    delta=le-7\n",
    "    return -np.sum(t*np.log(y+delta)) #delta是个保护性数据，防止lg0炸了"
   ]
  },
  {
   "cell_type": "markdown",
   "metadata": {},
   "source": [
    "## 如果遇到多个数据的计算，我们应该怎么办？\n",
    "### 我们可以通过让n个数据中每个都占1/n的部分来计算    ~~简而言之就是求平均~~\n",
    "但是这样有点多怎么办？跑的很长    ~~跑到天荒地老~~\n",
    "### 使用mini-batch!    ~~人话讲就是抽样~~"
   ]
  }
 ],
 "metadata": {
  "kernelspec": {
   "display_name": "club",
   "language": "python",
   "name": "python3"
  },
  "language_info": {
   "codemirror_mode": {
    "name": "ipython",
    "version": 3
   },
   "file_extension": ".py",
   "mimetype": "text/x-python",
   "name": "python",
   "nbconvert_exporter": "python",
   "pygments_lexer": "ipython3",
   "version": "3.12.4"
  }
 },
 "nbformat": 4,
 "nbformat_minor": 2
}
