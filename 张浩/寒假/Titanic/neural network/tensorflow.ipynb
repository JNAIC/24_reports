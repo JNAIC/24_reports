{
 "cells": [
  {
   "cell_type": "code",
   "execution_count": null,
   "metadata": {},
   "outputs": [],
   "source": [
    "'''\n",
    "使用dataset2的数据:\n",
    "Adam:0.76794\n",
    "使用dataset1的数据:\n",
    "Adam:0.77551\n",
    "'''\n",
    "import numpy as np\n",
    "import pandas as pd\n",
    "import matplotlib.pyplot as plt\n",
    "import tensorflow.compat.v1 as tf\n",
    "import tensorflow.python.framework as ops\n",
    "import math\n",
    "tf.compat.v1.disable_eager_execution()\n",
    "\n",
    "%matplotlib inline\n",
    "np.random.seed(1)"
   ]
  },
  {
   "cell_type": "code",
   "execution_count": 18,
   "metadata": {},
   "outputs": [
    {
     "name": "stdout",
     "output_type": "stream",
     "text": [
      "[[1. 0.]\n",
      " [0. 1.]\n",
      " [1. 0.]\n",
      " [0. 1.]]\n",
      "1.1991692\n"
     ]
    }
   ],
   "source": [
    "logits = tf.constant([[9., 2.], [1, 7.], [5., 4.], [2., 8.]])\n",
    "labels = tf.constant([0, 1, 0, 1])\n",
    "\n",
    "one_hot_labels = tf.one_hot(labels, depth = 2, dtype = tf.float32)\n",
    "\n",
    "loss = tf.losses.sigmoid_cross_entropy(multi_class_labels = one_hot_labels, logits = logits)\n",
    "\n",
    "sess = tf.Session()\n",
    "print(sess.run(one_hot_labels))\n",
    "print(sess.run(loss))"
   ]
  },
  {
   "cell_type": "code",
   "execution_count": 19,
   "metadata": {},
   "outputs": [
    {
     "name": "stdout",
     "output_type": "stream",
     "text": [
      "0.6986227830251057\n",
      "0.72333676\n",
      "0.72333676\n"
     ]
    }
   ],
   "source": [
    "Y = np.array([1, 0, 1, 0, 1, 0])\n",
    "Y = Y.astype(np.float32)\n",
    "A3 = np.array([0.9, 0.8, 0.7, 0.6, 0.5, 0.4])\n",
    "A3 = A3.astype(np.float32)\n",
    "\n",
    "cost = (-1 / 6) * np.sum(np.multiply(Y, np.log(A3)) + np.multiply((1 - Y), np.log(1 - A3)))\n",
    "print(cost)\n",
    "one_hot_labels = tf.one_hot(Y, 6)\n",
    "\n",
    "loss1 = tf.losses.sigmoid_cross_entropy(Y, A3)\n",
    "loss2 = tf.reduce_mean(tf.nn.sigmoid_cross_entropy_with_logits(logits = A3, labels = Y))\n",
    "print(sess.run(loss1))\n",
    "print(sess.run(loss2))"
   ]
  },
  {
   "cell_type": "code",
   "execution_count": 20,
   "metadata": {},
   "outputs": [
    {
     "data": {
      "text/plain": [
       "((7, 889), (1, 889), (7, 418))"
      ]
     },
     "execution_count": 20,
     "metadata": {},
     "output_type": "execute_result"
    }
   ],
   "source": [
    "# 处理过的数据\n",
    "train_df = pd.read_csv('dataset/over_dataset_1/train.csv')\n",
    "test_df = pd.read_csv('dataset/over_dataset_1/test.csv')\n",
    "X_train = train_df.drop('Survived', axis = 1).to_numpy().T\n",
    "Y_train = train_df['Survived'].to_numpy().reshape(1, -1)\n",
    "X_test = test_df.drop('PassengerId', axis = 1).to_numpy().T\n",
    "X_train.shape, Y_train.shape, X_test.shape"
   ]
  },
  {
   "cell_type": "code",
   "execution_count": 21,
   "metadata": {},
   "outputs": [],
   "source": [
    "# 归一化操作\n",
    "def normalization(data):\n",
    "    m = data.shape[1]\n",
    "    miu = data.mean(axis = 1).reshape(data.shape[0],1)\n",
    "    sigma = data.std(axis = 1).reshape(data.shape[0],1)\n",
    "\n",
    "    data = (data - miu)/sigma\n",
    "\n",
    "    return data\n",
    "X_train = normalization(X_train)\n",
    "X_test = normalization(X_test)"
   ]
  },
  {
   "cell_type": "code",
   "execution_count": 22,
   "metadata": {},
   "outputs": [],
   "source": [
    "def random_mini_batches(X, Y, mini_batch_size = 64, seed = 0):\n",
    "    np.random.seed(seed)\n",
    "    m = X.shape[1]\n",
    "    minibatches = []\n",
    "\n",
    "    permutation = list(np.random.permutation(m))\n",
    "    shuffled_X = X[:, permutation]\n",
    "    shuffled_Y = Y[:, permutation].reshape((Y.shape[0], m))\n",
    "\n",
    "    num_complete_minibatches = math.floor(m / mini_batch_size)\n",
    "    for k in range(0, num_complete_minibatches):\n",
    "        mini_batch_X = shuffled_X[:, k * mini_batch_size : k * mini_batch_size + mini_batch_size]\n",
    "        mini_batch_Y = shuffled_Y[:, k * mini_batch_size : k * mini_batch_size + mini_batch_size]\n",
    "        minibatch = (mini_batch_X, mini_batch_Y)\n",
    "        minibatches.append(minibatch)\n",
    "\n",
    "    if m % mini_batch_size != 0:\n",
    "        mini_batch_X = shuffled_X[:, num_complete_minibatches * mini_batch_size : m]\n",
    "        mini_batch_Y = shuffled_Y[:, num_complete_minibatches * mini_batch_size : m]\n",
    "        minibatch = (mini_batch_X, mini_batch_Y)\n",
    "        minibatches.append(minibatch)\n",
    "\n",
    "    return minibatches"
   ]
  },
  {
   "cell_type": "code",
   "execution_count": 23,
   "metadata": {},
   "outputs": [],
   "source": [
    "def create_placeholders(n_x, n_y):\n",
    "    X = tf.placeholder(tf.float32, [n_x, None], name = \"X\")\n",
    "    Y = tf.placeholder(tf.float32, [n_y, None], name = \"Y\")\n",
    "\n",
    "    return X, Y"
   ]
  },
  {
   "cell_type": "code",
   "execution_count": 24,
   "metadata": {},
   "outputs": [],
   "source": [
    "def initialize_parameters(layers_dims):\n",
    "    tf.set_random_seed(1)\n",
    "\n",
    "    xavier_initializer = tf.keras.initializers.GlorotNormal(seed = 1)\n",
    "\n",
    "    W1 = tf.Variable(initial_value = xavier_initializer(shape = (layers_dims[1], layers_dims[0])), name = \"W1\")\n",
    "    b1 = tf.Variable(initial_value = xavier_initializer(shape = (layers_dims[1], 1)), name = \"b1\")\n",
    "    W2 = tf.Variable(initial_value = xavier_initializer(shape = (layers_dims[2], layers_dims[1])), name = \"W2\")\n",
    "    b2 = tf.Variable(initial_value = xavier_initializer(shape = (layers_dims[2], 1)), name = \"b2\")\n",
    "    W3 = tf.Variable(initial_value = xavier_initializer(shape = (layers_dims[3], layers_dims[2])), name = \"W3\")\n",
    "    b3 = tf.Variable(initial_value = xavier_initializer(shape = (layers_dims[3], 1)), name = \"b3\")\n",
    "\n",
    "    parameters = {\"W1\": W1,\"b1\": b1,\"W2\": W2,\"b2\": b2,\"W3\": W3,\"b3\": b3}\n",
    "\n",
    "    return parameters"
   ]
  },
  {
   "cell_type": "code",
   "execution_count": 25,
   "metadata": {},
   "outputs": [],
   "source": [
    "def forward_propagation(X, parameters):\n",
    "    W1 = parameters['W1']\n",
    "    b1 = parameters['b1']\n",
    "    W2 = parameters['W2']\n",
    "    b2 = parameters['b2']\n",
    "    W3 = parameters['W3']\n",
    "    b3 = parameters['b3']\n",
    "\n",
    "    # print(X.shape)\n",
    "    # print(W1.shape)\n",
    "    # print(b1.shape)\n",
    "\n",
    "    Z1 = tf.add(tf.matmul(W1, X), b1)\n",
    "    A1 = tf.nn.relu(Z1)\n",
    "    Z2 = tf.add(tf.matmul(W2, A1), b2)\n",
    "    A2 = tf.nn.relu(Z2)\n",
    "    Z3 = tf.add(tf.matmul(W3, A2), b3)\n",
    "    A3 = tf.nn.sigmoid(Z3)\n",
    "\n",
    "    return A3"
   ]
  },
  {
   "cell_type": "code",
   "execution_count": 26,
   "metadata": {},
   "outputs": [],
   "source": [
    "def compute_cost(A3, Y):\n",
    "    m = Y.shape[1]\n",
    "\n",
    "    cost = tf.reduce_mean(tf.nn.sigmoid_cross_entropy_with_logits(logits = A3, labels = Y))\n",
    "\n",
    "    return cost"
   ]
  },
  {
   "cell_type": "code",
   "execution_count": 30,
   "metadata": {},
   "outputs": [],
   "source": [
    "def model(X_train, Y_train, layers_dims, learning_rate_0 = 0.0001,  minibatch_size = 32, \n",
    "          num_interations = 10000, print_cost = True):\n",
    "    seed = 3\n",
    "    (n_x, m) = X_train.shape\n",
    "    n_y = Y_train.shape[0]\n",
    "\n",
    "    costs = []\n",
    "\n",
    "    X, Y = create_placeholders(n_x, n_y)\n",
    "\n",
    "    parameters = initialize_parameters(layers_dims)\n",
    "\n",
    "    A3 = forward_propagation(X, parameters)\n",
    "\n",
    "    cost = compute_cost(A3, Y)\n",
    "\n",
    "    optimizer = tf.compat.v1.train.AdamOptimizer(learning_rate = learning_rate_0).minimize(cost)\n",
    "\n",
    "    init = tf.global_variables_initializer()\n",
    "\n",
    "    with tf.Session() as sess:\n",
    "        sess.run(init)\n",
    "\n",
    "        for epoch in range(num_interations):\n",
    "            epoch_cost = 0\n",
    "            num_minibatches = int(m / minibatch_size)\n",
    "            seed = seed + 1\n",
    "            minibatches = random_mini_batches(X_train, Y_train, minibatch_size, seed)\n",
    "            for minibatch in minibatches:\n",
    "                (minibatch_X, minibatch_Y) = minibatch\n",
    "                _ , minibatch_cost = sess.run([optimizer, cost], feed_dict={X: minibatch_X, Y: minibatch_Y})\n",
    "                epoch_cost += minibatch_cost / num_minibatches\n",
    "\n",
    "            if print_cost == True and epoch % 1000 == 0:\n",
    "                print (\"Cost after epoch %i: %f\" % (epoch, epoch_cost))\n",
    "            if print_cost == True and epoch % 5 == 0:\n",
    "                costs.append(epoch_cost)\n",
    "\n",
    "        plt.plot(np.squeeze(costs))\n",
    "        plt.ylabel('cost')\n",
    "        plt.xlabel('iterations (per tens)')\n",
    "        plt.title(\"Learning rate =\" + str(learning_rate_0))\n",
    "        plt.show()\n",
    "\n",
    "        parameters = sess.run(parameters)\n",
    "        return parameters\n",
    "        \n"
   ]
  },
  {
   "cell_type": "code",
   "execution_count": 31,
   "metadata": {},
   "outputs": [
    {
     "name": "stdout",
     "output_type": "stream",
     "text": [
      "Cost after epoch 0: 0.865421\n",
      "Cost after epoch 1000: 0.634387\n",
      "Cost after epoch 2000: 0.631955\n",
      "Cost after epoch 3000: 0.631950\n",
      "Cost after epoch 4000: 0.632188\n",
      "Cost after epoch 5000: 0.632590\n",
      "Cost after epoch 6000: 0.632512\n",
      "Cost after epoch 7000: 0.632434\n",
      "Cost after epoch 8000: 0.632389\n",
      "Cost after epoch 9000: 0.632881\n"
     ]
    },
    {
     "data": {
      "image/png": "[encoded data removed]",
      "text/plain": [
       "<Figure size 640x480 with 1 Axes>"
      ]
     },
     "metadata": {},
     "output_type": "display_data"
    }
   ],
   "source": [
    "layers_dims = [7, 30, 15, 1]\n",
    "parameters = model(X_train, Y_train, layers_dims)"
   ]
  },
  {
   "cell_type": "code",
   "execution_count": 29,
   "metadata": {},
   "outputs": [
    {
     "name": "stdout",
     "output_type": "stream",
     "text": [
      "(1, 418)\n",
      "(418, 1)\n"
     ]
    }
   ],
   "source": [
    "Y_test= forward_propagation(X_test, parameters)\n",
    "# Convert test predictions to binary labels (0 or 1)\n",
    "with tf.Session() as sess:\n",
    "    Y_pred = sess.run(Y_test)\n",
    "Y_pred = (Y_pred > 0.5).astype(int)\n",
    "print(Y_pred.shape)\n",
    "print(test_df['PassengerId'].to_numpy().reshape(-1, 1).shape)\n",
    "\n",
    "result = np.concatenate((test_df['PassengerId'].to_numpy().reshape(-1, 1), Y_pred.T), axis = 1)\n",
    "result_df = pd.DataFrame(result, columns = ['PassengerId', 'Survived'])\n",
    "result_df.to_csv('结果/result1.csv', index = False)"
   ]
  }
 ],
 "metadata": {
  "kernelspec": {
   "display_name": "base",
   "language": "python",
   "name": "python3"
  },
  "language_info": {
   "codemirror_mode": {
    "name": "ipython",
    "version": 3
   },
   "file_extension": ".py",
   "mimetype": "text/x-python",
   "name": "python",
   "nbconvert_exporter": "python",
   "pygments_lexer": "ipython3",
   "version": "3.12.3"
  }
 },
 "nbformat": 4,
 "nbformat_minor": 2
}
