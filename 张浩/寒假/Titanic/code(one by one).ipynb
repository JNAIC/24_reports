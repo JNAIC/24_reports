{
 "cells": [
  {
   "cell_type": "code",
   "execution_count": 2,
   "metadata": {},
   "outputs": [],
   "source": [
    "'''\n",
    "使用dataset1:\n",
    "dropout正则化:0.77751\n",
    "L2正则化:0.75598\n",
    "'''\n",
    "\n",
    "import numpy as np\n",
    "import pandas as pd\n",
    "import matplotlib.pyplot as plt"
   ]
  },
  {
   "cell_type": "code",
   "execution_count": 3,
   "metadata": {},
   "outputs": [],
   "source": [
    "#提取数据，并删除缺失值较多的一列\n",
    "traindata_df = pd.read_csv(\"dataset/train.csv\", sep = ',', header  = 0)\n",
    "testdata_df = pd.read_csv(\"dataset/test.csv\", sep = ',', header  = 0)\n",
    "traindata_df.drop(traindata_df.columns[-2], axis = 1, inplace = True)\n",
    "testdata_df.drop(testdata_df.columns[-2], axis = 1, inplace = True)"
   ]
  },
  {
   "cell_type": "code",
   "execution_count": 4,
   "metadata": {},
   "outputs": [
    {
     "data": {
      "text/plain": [
       "(PassengerId      0\n",
       " Survived         0\n",
       " Pclass           0\n",
       " Name             0\n",
       " Sex              0\n",
       " Age            177\n",
       " SibSp            0\n",
       " Parch            0\n",
       " Ticket           0\n",
       " Fare             0\n",
       " Embarked         2\n",
       " dtype: int64,\n",
       " PassengerId     0\n",
       " Pclass          0\n",
       " Name            0\n",
       " Sex             0\n",
       " Age            86\n",
       " SibSp           0\n",
       " Parch           0\n",
       " Ticket          0\n",
       " Fare            1\n",
       " Embarked        0\n",
       " dtype: int64)"
      ]
     },
     "execution_count": 4,
     "metadata": {},
     "output_type": "execute_result"
    }
   ],
   "source": [
    "traindata_df.isnull().sum(), testdata_df.isnull().sum()"
   ]
  },
  {
   "cell_type": "code",
   "execution_count": 5,
   "metadata": {},
   "outputs": [
    {
     "name": "stdout",
     "output_type": "stream",
     "text": [
      "PassengerId    0\n",
      "Survived       0\n",
      "Pclass         0\n",
      "Name           0\n",
      "Sex            0\n",
      "Age            0\n",
      "SibSp          0\n",
      "Parch          0\n",
      "Ticket         0\n",
      "Fare           0\n",
      "Embarked       0\n",
      "dtype: int64\n",
      "PassengerId    0\n",
      "Pclass         0\n",
      "Name           0\n",
      "Sex            0\n",
      "Age            0\n",
      "SibSp          0\n",
      "Parch          0\n",
      "Ticket         0\n",
      "Fare           0\n",
      "Embarked       0\n",
      "dtype: int64\n"
     ]
    },
    {
     "data": {
      "text/plain": [
       "0    22.000000\n",
       "1    38.000000\n",
       "2    26.000000\n",
       "3    35.000000\n",
       "4    35.000000\n",
       "5    23.799293\n",
       "6    54.000000\n",
       "7     2.000000\n",
       "8    27.000000\n",
       "9    14.000000\n",
       "Name: Age, dtype: float64"
      ]
     },
     "execution_count": 5,
     "metadata": {},
     "output_type": "execute_result"
    }
   ],
   "source": [
    "#用平均数填充缺失值\n",
    "train_age_array = traindata_df['Age'].values\n",
    "train_age_mean = np.mean(np.nan_to_num(train_age_array))\n",
    "traindata_df['Age'] = traindata_df['Age'].fillna(train_age_mean)\n",
    "traindata_df = traindata_df.dropna(axis = 0)\n",
    "\n",
    "test_age_array = testdata_df['Age'].values\n",
    "test_age_mean = np.mean(np.nan_to_num(test_age_array))\n",
    "testdata_df['Age'] = testdata_df['Age'].fillna(test_age_mean)\n",
    "\n",
    "test_fare_array = testdata_df['Fare'].values\n",
    "test_fare_mean = np.mean(np.nan_to_num(test_fare_array))\n",
    "testdata_df['Fare'] = testdata_df['Fare'].fillna(test_fare_mean)\n",
    "print(pd.isna(traindata_df).sum())\n",
    "print(pd.isna(testdata_df).sum())\n",
    "traindata_df.Age.head(10)"
   ]
  },
  {
   "cell_type": "code",
   "execution_count": 6,
   "metadata": {},
   "outputs": [
    {
     "data": {
      "text/plain": [
       "((889, 9), (418, 8))"
      ]
     },
     "execution_count": 6,
     "metadata": {},
     "output_type": "execute_result"
    }
   ],
   "source": [
    "#删除类型是字符串的列\n",
    "traindata_df.drop(['Name', 'Ticket'], axis = 1, inplace = True)\n",
    "testdata_df.drop(['Name', 'Ticket'], axis = 1, inplace = True)\n",
    "traindata_df.shape, testdata_df.shape"
   ]
  },
  {
   "cell_type": "code",
   "execution_count": 7,
   "metadata": {},
   "outputs": [
    {
     "data": {
      "text/html": [
       "<div>\n",
       "<style scoped>\n",
       "    .dataframe tbody tr th:only-of-type {\n",
       "        vertical-align: middle;\n",
       "    }\n",
       "\n",
       "    .dataframe tbody tr th {\n",
       "        vertical-align: top;\n",
       "    }\n",
       "\n",
       "    .dataframe thead th {\n",
       "        text-align: right;\n",
       "    }\n",
       "</style>\n",
       "<table border=\"1\" class=\"dataframe\">\n",
       "  <thead>\n",
       "    <tr style=\"text-align: right;\">\n",
       "      <th></th>\n",
       "      <th>PassengerId</th>\n",
       "      <th>Survived</th>\n",
       "      <th>Pclass</th>\n",
       "      <th>Sex</th>\n",
       "      <th>Age</th>\n",
       "      <th>SibSp</th>\n",
       "      <th>Parch</th>\n",
       "      <th>Fare</th>\n",
       "      <th>Embarked</th>\n",
       "    </tr>\n",
       "  </thead>\n",
       "  <tbody>\n",
       "    <tr>\n",
       "      <th>0</th>\n",
       "      <td>1</td>\n",
       "      <td>0</td>\n",
       "      <td>3</td>\n",
       "      <td>male</td>\n",
       "      <td>22.0</td>\n",
       "      <td>1</td>\n",
       "      <td>0</td>\n",
       "      <td>7.2500</td>\n",
       "      <td>S</td>\n",
       "    </tr>\n",
       "    <tr>\n",
       "      <th>1</th>\n",
       "      <td>2</td>\n",
       "      <td>1</td>\n",
       "      <td>1</td>\n",
       "      <td>female</td>\n",
       "      <td>38.0</td>\n",
       "      <td>1</td>\n",
       "      <td>0</td>\n",
       "      <td>71.2833</td>\n",
       "      <td>C</td>\n",
       "    </tr>\n",
       "    <tr>\n",
       "      <th>2</th>\n",
       "      <td>3</td>\n",
       "      <td>1</td>\n",
       "      <td>3</td>\n",
       "      <td>female</td>\n",
       "      <td>26.0</td>\n",
       "      <td>0</td>\n",
       "      <td>0</td>\n",
       "      <td>7.9250</td>\n",
       "      <td>S</td>\n",
       "    </tr>\n",
       "    <tr>\n",
       "      <th>3</th>\n",
       "      <td>4</td>\n",
       "      <td>1</td>\n",
       "      <td>1</td>\n",
       "      <td>female</td>\n",
       "      <td>35.0</td>\n",
       "      <td>1</td>\n",
       "      <td>0</td>\n",
       "      <td>53.1000</td>\n",
       "      <td>S</td>\n",
       "    </tr>\n",
       "    <tr>\n",
       "      <th>4</th>\n",
       "      <td>5</td>\n",
       "      <td>0</td>\n",
       "      <td>3</td>\n",
       "      <td>male</td>\n",
       "      <td>35.0</td>\n",
       "      <td>0</td>\n",
       "      <td>0</td>\n",
       "      <td>8.0500</td>\n",
       "      <td>S</td>\n",
       "    </tr>\n",
       "  </tbody>\n",
       "</table>\n",
       "</div>"
      ],
      "text/plain": [
       "   PassengerId  Survived  Pclass     Sex   Age  SibSp  Parch     Fare Embarked\n",
       "0            1         0       3    male  22.0      1      0   7.2500        S\n",
       "1            2         1       1  female  38.0      1      0  71.2833        C\n",
       "2            3         1       3  female  26.0      0      0   7.9250        S\n",
       "3            4         1       1  female  35.0      1      0  53.1000        S\n",
       "4            5         0       3    male  35.0      0      0   8.0500        S"
      ]
     },
     "execution_count": 7,
     "metadata": {},
     "output_type": "execute_result"
    }
   ],
   "source": [
    "traindata_df.head()"
   ]
  },
  {
   "cell_type": "code",
   "execution_count": 8,
   "metadata": {},
   "outputs": [],
   "source": [
    "# C = 0，Q = 1，S = 2\n",
    "# female = 0, male = 1\n",
    "\n",
    "traindata_df['Embarked'] = traindata_df['Embarked'].map({'C': 0, 'Q': 1, 'S': 2}).astype(int)\n",
    "traindata_df['Sex'] = traindata_df['Sex'].map({'female': 0, 'male': 1}).astype(int)\n",
    "testdata_df['Embarked'] = testdata_df['Embarked'].map({'C': 0, 'Q': 1, 'S': 2}).astype(int)\n",
    "testdata_df['Sex'] = testdata_df['Sex'].map({'female': 0,'male': 1}).astype(int)\n",
    "\n",
    "traindata_df.drop('PassengerId', axis=1, inplace=True)"
   ]
  },
  {
   "cell_type": "code",
   "execution_count": 9,
   "metadata": {},
   "outputs": [],
   "source": [
    "# 传输数据\n",
    "traindata_df.to_csv('dataset/over_dataset_1/train.csv', index = False)\n",
    "testdata_df.to_csv('dataset/over_dataset_1/test.csv', index = False)"
   ]
  },
  {
   "cell_type": "code",
   "execution_count": 10,
   "metadata": {},
   "outputs": [
    {
     "data": {
      "text/plain": [
       "(   Survived  Pclass  Sex   Age  SibSp  Parch     Fare  Embarked\n",
       " 0         0       3    1  22.0      1      0   7.2500         2\n",
       " 1         1       1    0  38.0      1      0  71.2833         0\n",
       " 2         1       3    0  26.0      0      0   7.9250         2\n",
       " 3         1       1    0  35.0      1      0  53.1000         2\n",
       " 4         0       3    1  35.0      0      0   8.0500         2,\n",
       "    PassengerId  Pclass  Sex   Age  SibSp  Parch     Fare  Embarked\n",
       " 0          892       3    1  34.5      0      0   7.8292         1\n",
       " 1          893       3    0  47.0      1      0   7.0000         2\n",
       " 2          894       2    1  62.0      0      0   9.6875         1\n",
       " 3          895       3    1  27.0      0      0   8.6625         2\n",
       " 4          896       3    0  22.0      1      1  12.2875         2)"
      ]
     },
     "execution_count": 10,
     "metadata": {},
     "output_type": "execute_result"
    }
   ],
   "source": [
    "traindata_df.head(), testdata_df.head()"
   ]
  },
  {
   "cell_type": "code",
   "execution_count": 11,
   "metadata": {},
   "outputs": [
    {
     "data": {
      "text/plain": [
       "((7, 889), (1, 889), (7, 418))"
      ]
     },
     "execution_count": 11,
     "metadata": {},
     "output_type": "execute_result"
    }
   ],
   "source": [
    "X_train = traindata_df.iloc[:, 1:].values.T.astype('float32')\n",
    "Y_train = traindata_df.iloc[:, 0].values.reshape(1, -1)\n",
    "X_test = testdata_df.iloc[:, 1:].values.T.astype('float32')\n",
    "X_train.shape, Y_train.shape, X_test.shape"
   ]
  },
  {
   "cell_type": "code",
   "execution_count": 12,
   "metadata": {},
   "outputs": [],
   "source": [
    "# 处理过的数据\n",
    "# train_df = pd.read_csv('dataset/over_dataset/train.csv')\n",
    "# test_df = pd.read_csv('dataset/over_dataset/test.csv')\n",
    "# X_train = train_df.drop('Survived', axis = 1).to_numpy().T\n",
    "# Y_train = train_df['Survived'].to_numpy().reshape(1, -1)\n",
    "# X_test = test_df.drop('PassengerId', axis = 1).to_numpy().T\n",
    "# X_train.shape, Y_train.shape, X_test.shape"
   ]
  },
  {
   "cell_type": "code",
   "execution_count": null,
   "metadata": {},
   "outputs": [],
   "source": [
    "# 标准化操作\n",
    "def Standardization(data):\n",
    "    miu = data.mean(axis = 1).reshape(data.shape[0],1)\n",
    "    sigma = data.std(axis = 1).reshape(data.shape[0],1)\n",
    "\n",
    "    data = (data - miu)/sigma\n",
    "\n",
    "    return data\n",
    "\n",
    "X_train = Standardization(X_train)\n",
    "X_test  = Standardization(X_test)"
   ]
  },
  {
   "cell_type": "code",
   "execution_count": 155,
   "metadata": {},
   "outputs": [],
   "source": [
    "def sigmoid(x):\n",
    "    y = 1 / (1 + np.exp(-x))\n",
    "    return y\n",
    "\n",
    "def relu(x):\n",
    "    y = np.maximum(0, x)\n",
    "    return y\n",
    "\n",
    "def initialize_parameters(layers_dims):\n",
    "    np.random.seed(1)\n",
    "    L = len(layers_dims)\n",
    "    parameters = {}\n",
    "\n",
    "    for i in range(1, L):\n",
    "        parameters[\"W\" + str(i)] = np.random.randn(layers_dims[i], layers_dims[i - 1]) * 0.01\n",
    "        parameters[\"b\" + str(i)] = np.random.randn(layers_dims[i], 1) * 0.01\n",
    "    \n",
    "    return parameters"
   ]
  },
  {
   "cell_type": "code",
   "execution_count": 156,
   "metadata": {},
   "outputs": [],
   "source": [
    "def forward_propagation(X, parameters):\n",
    "    W1 = parameters[\"W1\"]\n",
    "    b1 = parameters[\"b1\"]\n",
    "    W2 = parameters[\"W2\"]\n",
    "    b2 = parameters[\"b2\"]\n",
    "    W3 = parameters[\"W3\"]\n",
    "    b3 = parameters[\"b3\"]\n",
    "        \n",
    "\n",
    "    Z1 = np.dot(W1, X) + b1\n",
    "    A1 = relu(Z1)\n",
    "    Z2 = np.dot(W2, A1) + b2\n",
    "    A2 = relu(Z2)\n",
    "    Z3 = np.dot(W3, A2) + b3\n",
    "    A3 = sigmoid(Z3)\n",
    " \n",
    "\n",
    "    cache = (Z1, A1, W1, b1, Z2, A2, W2, b2, Z3, A3, W3, b3)\n",
    "\n",
    "    return A3, cache\n"
   ]
  },
  {
   "cell_type": "code",
   "execution_count": 157,
   "metadata": {},
   "outputs": [],
   "source": [
    "def forward_propagation_with_dropout(X, parameters, keep_prob):\n",
    "    np.random.seed(1)\n",
    "\n",
    "    W1 = parameters[\"W1\"]\n",
    "    b1 = parameters[\"b1\"]\n",
    "    W2 = parameters[\"W2\"]\n",
    "    b2 = parameters[\"b2\"]\n",
    "    W3 = parameters[\"W3\"]\n",
    "    b3 = parameters[\"b3\"]\n",
    "\n",
    "    Z1 = np.dot(W1, X) + b1\n",
    "    A1 = relu(Z1)\n",
    "\n",
    "    D1 = np.random.rand(A1.shape[0], A1.shape[1])\n",
    "    D1 = D1 < keep_prob\n",
    "    A1 = np.multiply(A1, D1)\n",
    "    A1 = A1 / keep_prob\n",
    "\n",
    "    Z2 = np.dot(W2, A1) + b2\n",
    "    A2 = relu(Z2)\n",
    "\n",
    "    D2 = np.random.rand(A2.shape[0], A2.shape[1])\n",
    "    D2 = D2 < keep_prob\n",
    "    A2 = np.multiply(A2, D2)\n",
    "    A2 = A2 / keep_prob\n",
    "\n",
    "    Z3 = np.dot(W3, A2) + b3\n",
    "    A3 = sigmoid(Z3)\n",
    "\n",
    "    cache = (Z1, D1, A1, W1, b1, Z2, D2, A2, W2, b2, Z3,A3, W3, b3)\n",
    "\n",
    "    return A3, cache"
   ]
  },
  {
   "cell_type": "code",
   "execution_count": 158,
   "metadata": {},
   "outputs": [],
   "source": [
    "def compute_cost(A3, Y):\n",
    "    m = Y.shape[1]\n",
    "\n",
    "    logprobs = np.multiply(Y, np.log(A3)) + np.multiply((1 - Y), np.log(1 - A3))\n",
    "    cost = -1 / m * np.sum(logprobs)\n",
    "\n",
    "    cost = np.squeeze(cost)\n",
    "    return cost"
   ]
  },
  {
   "cell_type": "code",
   "execution_count": 159,
   "metadata": {},
   "outputs": [],
   "source": [
    "def compute_cost_with_regularization(A3, Y, parameters, lambd):\n",
    "    m = Y.shape[1]\n",
    "    W1 = parameters['W1']\n",
    "    W2 = parameters['W2']\n",
    "    W3 = parameters['W3']\n",
    "\n",
    "    cross_entropy_cost = compute_cost(A3, Y)\n",
    "\n",
    "    L2_regularization_cost = (1/m) * (lambd/2) * (np.sum(np.square(W1)) + np.sum(np.square(W2)) + np.sum(np.square(W3)))\n",
    "\n",
    "    cost = cross_entropy_cost + L2_regularization_cost\n",
    "\n",
    "    return cost"
   ]
  },
  {
   "cell_type": "code",
   "execution_count": 160,
   "metadata": {},
   "outputs": [],
   "source": [
    "def backward_propagation(X, Y, cache):\n",
    "    m = X.shape[1]\n",
    "    (Z1, A1, W1, b1, Z2, A2, W2, b2, Z3, A3, W3, b3) = cache\n",
    "\n",
    "    dZ3 = A3 - Y\n",
    "    dW3 = 1./m * np.dot(dZ3, A2.T)\n",
    "    db3 = 1./m * np.sum(dZ3, axis=1, keepdims = True)\n",
    "\n",
    "    dA2 = np.dot(W3.T, dZ3)\n",
    "    dZ2 = np.multiply(dA2, np.int64(A2 > 0))\n",
    "    dW2 = 1./m * np.dot(dZ2, A1.T)\n",
    "    db2 = 1./m * np.sum(dZ2, axis=1, keepdims = True)\n",
    "\n",
    "    dA1 = np.dot(W2.T, dZ2)\n",
    "    dZ1 = np.multiply(dA1, np.int64(A1 > 0))\n",
    "    dW1 = 1./m * np.dot(dZ1, X.T)\n",
    "    db1 = 1./m * np.sum(dZ1, axis=1, keepdims = True)\n",
    "\n",
    "    gradients = { \"dZ3\": dZ3, \"dW3\": dW3, \"db3\": db3,\n",
    "                 \"dA2\": dA2, \"dZ2\": dZ2, \"dW2\": dW2, \"db2\": db2,\n",
    "                 \"dA1\": dA1, \"dZ1\": dZ1, \"dW1\": dW1, \"db1\": db1}\n",
    "    \n",
    "    \n",
    "\n",
    "    return gradients"
   ]
  },
  {
   "cell_type": "code",
   "execution_count": 161,
   "metadata": {},
   "outputs": [],
   "source": [
    "def backward_propagation_with_regularization(X, Y, cache, lambd):\n",
    "    m = X.shape[1]\n",
    "    (Z1, A1, W1, b1, Z2, A2, W2, b2, Z3, A3, W3, b3) = cache\n",
    "\n",
    "    dZ3 = A3 - Y\n",
    "    dW3 = 1 / m * np.dot(dZ3, A2.T) + lambd / m * W3\n",
    "    db3 = 1 / m * np.sum(dZ3, axis=1, keepdims=True)\n",
    "\n",
    "    dA2 = np.dot(W3.T, dZ3)\n",
    "    dZ2 = np.multiply(dA2, np.int64(A2 > 0))\n",
    "    dW2 = 1 / m * np.dot(dZ2, A1.T) + lambd / m * W2\n",
    "    db2 = 1 / m * np.sum(dZ2, axis=1, keepdims=True)\n",
    "\n",
    "    dA1 = np.dot(W2.T, dZ2)\n",
    "    dZ1 = np.multiply(dA1, np.int64(A1 > 0))\n",
    "    dW1 = 1 / m * np.dot(dZ1, X.T) + lambd / m * W1\n",
    "    db1 = 1 / m * np.sum(dZ1, axis=1, keepdims=True)\n",
    "\n",
    "    gradients = { \"dZ3\": dZ3, \"dW3\": dW3, \"db3\": db3,\n",
    "                 \"dA2\": dA2, \"dZ2\": dZ2, \"dW2\": dW2, \"db2\": db2,\n",
    "                 \"dA1\": dA1, \"dZ1\": dZ1, \"dW1\": dW1, \"db1\": db1}\n",
    "\n",
    "    return gradients"
   ]
  },
  {
   "cell_type": "code",
   "execution_count": 162,
   "metadata": {},
   "outputs": [],
   "source": [
    "def backward_propagation_with_dropout(X, Y, caches, keep_prob):\n",
    "    m = X.shape[1]\n",
    "    (Z1, D1, A1, W1, b1, Z2, D2, A2, W2, b2, Z3, A3, W3, b3,) = caches\n",
    "\n",
    "\n",
    "\n",
    "    dZ3 = A3 - Y\n",
    "    dW3 = 1 / m * np.dot(dZ3, A2.T)\n",
    "    db3 = 1 / m * np.sum(dZ3, axis=1, keepdims=True)\n",
    "    dA2 = np.dot(W3.T, dZ3)\n",
    "\n",
    "    dA2 = np.multiply(dA2, D2)\n",
    "    dA2 = dA2 / keep_prob\n",
    "\n",
    "    dZ2 = np.multiply(dA2, np.int64(A2 > 0))\n",
    "    dW2 = 1 / m * np.dot(dZ2, A1.T)\n",
    "    db2 = 1 / m * np.sum(dZ2, axis=1, keepdims=True)\n",
    "    dA1 = np.dot(W2.T, dZ2)\n",
    "\n",
    "    dA1 = np.multiply(dA1, D1)\n",
    "    dA1 = dA1 / keep_prob\n",
    "\n",
    "    dZ1 = np.multiply(dA1, np.int64(A1 > 0))\n",
    "    dW1 = 1 / m * np.dot(dZ1, X.T)\n",
    "    db1 = 1 / m * np.sum(dZ1, axis=1, keepdims=True)\n",
    "\n",
    "    gradients = { \"dZ3\": dZ3, \"dW3\": dW3, \"db3\": db3,\n",
    "                 \"dA2\": dA2, \"dZ2\": dZ2, \"dW2\": dW2, \"db2\": db2,\n",
    "                 \"dA1\": dA1, \"dZ1\": dZ1, \"dW1\": dW1, \"db1\": db1}\n",
    "\n",
    "    return gradients\n",
    "\n"
   ]
  },
  {
   "cell_type": "code",
   "execution_count": 163,
   "metadata": {},
   "outputs": [],
   "source": [
    "def update_parameters_with_gd(parameters, grads, learning_rate):\n",
    "    L = len(parameters) // 2\n",
    "\n",
    "    for i in range(L):\n",
    "        parameters[\"W\" + str(i + 1)] -= learning_rate * grads[\"dW\" + str(i + 1)]\n",
    "        parameters[\"b\" + str(i + 1)] -= learning_rate * grads[\"db\" + str(i + 1)]\n",
    "\n",
    "    return parameters"
   ]
  },
  {
   "cell_type": "code",
   "execution_count": 183,
   "metadata": {},
   "outputs": [],
   "source": [
    "def model(X, Y, layers_dims,lambd = 0.15, decay_rate = 0.0002, learning_rate_0 = 0.25, keep_prob = 0.84,\n",
    "          num_iterations = 7000, print_cost = True):\n",
    "    grads = {}\n",
    "    costs = []\n",
    "    m = X.shape[1]\n",
    "\n",
    "    parameters = initialize_parameters(layers_dims)\n",
    "    \n",
    "    for i in range(0, num_iterations):\n",
    "        learning_rate = learning_rate_0 / (1 + decay_rate * i)\n",
    "\n",
    "        A3, cache = forward_propagation_with_dropout(X, parameters, keep_prob)\n",
    "\n",
    "        cost = compute_cost(A3, Y)\n",
    "\n",
    "        grads = backward_propagation_with_dropout(X, Y, cache, keep_prob)\n",
    "        \n",
    "        parameters = update_parameters_with_gd(parameters, grads, learning_rate)\n",
    "\n",
    "        if print_cost and i % 1000 == 0:\n",
    "            print(\"Cost after iteration {}: {}\".format(i, cost))\n",
    "        elif print_cost and i % 100 == 0:\n",
    "            costs.append(cost)\n",
    "\n",
    "    plt.plot(costs)\n",
    "    plt.ylabel('cost')\n",
    "    plt.xlabel('iterations (per hundreds)')\n",
    "    plt.title(\"Learning rate =\" + str(learning_rate))\n",
    "    plt.show()\n",
    "\n",
    "    return parameters\n",
    "    "
   ]
  },
  {
   "cell_type": "code",
   "execution_count": 184,
   "metadata": {},
   "outputs": [
    {
     "name": "stdout",
     "output_type": "stream",
     "text": [
      "Cost after iteration 0: 0.6907331326163244\n",
      "Cost after iteration 1000: 0.4165593891565946\n",
      "Cost after iteration 2000: 0.30425917087674165\n",
      "Cost after iteration 3000: 0.23517812700126778\n",
      "Cost after iteration 4000: 0.17000003049190743\n",
      "Cost after iteration 5000: 0.11928104737792185\n"
     ]
    },
    {
     "name": "stderr",
     "output_type": "stream",
     "text": [
      "C:\\Users\\bilbo\\AppData\\Local\\Temp\\ipykernel_26504\\2535999016.py:4: RuntimeWarning: divide by zero encountered in log\n",
      "  logprobs = np.multiply(Y, np.log(A3)) + np.multiply((1 - Y), np.log(1 - A3))\n",
      "C:\\Users\\bilbo\\AppData\\Local\\Temp\\ipykernel_26504\\2535999016.py:4: RuntimeWarning: invalid value encountered in multiply\n",
      "  logprobs = np.multiply(Y, np.log(A3)) + np.multiply((1 - Y), np.log(1 - A3))\n"
     ]
    },
    {
     "name": "stdout",
     "output_type": "stream",
     "text": [
      "Cost after iteration 6000: 0.09013690913370881\n"
     ]
    },
    {
     "data": {
      "image/png": "[encoded data removed]",
      "text/plain": [
       "<Figure size 640x480 with 1 Axes>"
      ]
     },
     "metadata": {},
     "output_type": "display_data"
    }
   ],
   "source": [
    "layers_dims = [7, 30, 15, 1]\n",
    "parameters = model(X_train, Y_train, layers_dims)"
   ]
  },
  {
   "cell_type": "code",
   "execution_count": 172,
   "metadata": {},
   "outputs": [
    {
     "name": "stdout",
     "output_type": "stream",
     "text": [
      "(1, 418)\n",
      "(418, 1)\n"
     ]
    }
   ],
   "source": [
    "Y_test, _ = forward_propagation(X_test, parameters)\n",
    "# Convert test predictions to binary labels (0 or 1)\n",
    "Y_pred = (Y_test > 0.5).astype(int)\n",
    "print(Y_pred.shape)\n",
    "print(testdata_df['PassengerId'].to_numpy().reshape(-1, 1).shape)\n",
    "\n",
    "result = pd.DataFrame({\n",
    "    'PassengerId' : testdata_df['PassengerId'].to_numpy().flatten(),\n",
    "    'Survived' : Y_pred.flatten()\n",
    "    })\n",
    "result.to_csv('结果/result.csv', index = False)"
   ]
  },
  {
   "cell_type": "markdown",
   "metadata": {},
   "source": []
  }
 ],
 "metadata": {
  "kernelspec": {
   "display_name": "base",
   "language": "python",
   "name": "python3"
  },
  "language_info": {
   "codemirror_mode": {
    "name": "ipython",
    "version": 3
   },
   "file_extension": ".py",
   "mimetype": "text/x-python",
   "name": "python",
   "nbconvert_exporter": "python",
   "pygments_lexer": "ipython3",
   "version": "3.12.3"
  }
 },
 "nbformat": 4,
 "nbformat_minor": 2
}
