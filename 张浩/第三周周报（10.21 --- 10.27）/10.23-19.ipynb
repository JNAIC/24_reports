{
 "cells": [
  {
   "cell_type": "markdown",
   "metadata": {},
   "source": [
    "# 19  聊聊pandas"
   ]
  },
  {
   "cell_type": "markdown",
   "metadata": {},
   "source": [
    "## 一.什么是Pandas？"
   ]
  },
  {
   "cell_type": "markdown",
   "metadata": {},
   "source": [
    "1.Pandas最基本的数据结构是Series和DataFrame。 Series 是一种类似于一维数组的对象，相当于NumPy一维数组；而DataFrame是一种二维表\n",
    "   格型的数据结构，可以容纳多种类型的数据，并且可以进行各种数据操作。DataFrame在本书中被叫做数据帧。\n",
    "2.NumPy Array和Pandas DataFrame的区别：\n",
    "    NumPy Array是多维数组对象，一般要求所有元素具有相同的数据类型，即同质性；\n",
    "            而且只能使用整数索引；\n",
    "    Pandas DataFrame是一个二维表格数据结构，类似于Excel表格，具有行标签和列标签，它由多个列组成，每列可以是不同的数据类型；\n",
    "            支持自定义行标签和列标签，可以使用标签索引，也可以使用整数索引\n",
    "3.Numpy Array和Pandas DataFrame的相互转化：\n",
    "    Array--->DataFrame:pandas.DataFrame()\n",
    "    DataFrame--->Array:pandas.DataFrame.to_numpy()"
   ]
  },
  {
   "cell_type": "markdown",
   "metadata": {},
   "source": [
    "## 二.创建数据帧：从字典、列表、Numpy数组..."
   ]
  },
  {
   "cell_type": "markdown",
   "metadata": {},
   "source": [
    "### 1.字典"
   ]
  },
  {
   "cell_type": "code",
   "execution_count": 1,
   "metadata": {},
   "outputs": [
    {
     "name": "stdout",
     "output_type": "stream",
     "text": [
      "  name  height\n",
      "0    a     181\n",
      "1    b     182\n",
      "2    c     183\n",
      "3    d     184\n",
      "4    e     185\n",
      "      height\n",
      "name        \n",
      "a        181\n",
      "b        182\n",
      "c        183\n",
      "d        184\n",
      "e        185\n",
      "  name  height\n",
      "0    a     181\n",
      "1    b     182\n",
      "2    c     183\n",
      "3    d     184\n",
      "4    e     185\n",
      "      height\n",
      "name        \n",
      "e        185\n",
      "d        184\n",
      "c        183\n",
      "b        182\n",
      "a        181\n"
     ]
    }
   ],
   "source": [
    "import pandas as pd\n",
    "\n",
    "dict_eg = {'name':['a', 'b', 'c', 'd', 'e'], 'height':[181, 182, 183, 184, 185]} #字典的键对应列标签，每个键对应的值是一个列表，这些列表将成为相应列中的数据\n",
    "                                                                                 #确保字典中每个值的长度相同，以便正确创建数据帧\n",
    "DataFrame_from_dict = pd.DataFrame(data = dict_eg)\n",
    "DataFrame_from_dict_02 = DataFrame_from_dict.set_index('name')          #将数据帧的特定列设置为行标签\n",
    "DataFrame_from_dict_03 = DataFrame_from_dict_02.reset_index(drop = False)\n",
    "DataFrame_from_dict_04 = DataFrame_from_dict_02.reindex(['e','d','c','b','a'])\n",
    "\n",
    "print(DataFrame_from_dict)\n",
    "print(DataFrame_from_dict_02)\n",
    "print(DataFrame_from_dict_03)\n",
    "print(DataFrame_from_dict_04)"
   ]
  },
  {
   "cell_type": "markdown",
   "metadata": {},
   "source": [
    "    此外，可以用pandas.DataFrame.reset_index() 重置行标签，将行标签设置为从0开始的整数索引，同时加一个原来的行标签转换成一个新的列。 \n",
    "使用pandas.DataFrame.reset_index() 时，如果设置 drop=True，原来的行标签将会被删除。"
   ]
  },
  {
   "cell_type": "markdown",
   "metadata": {},
   "source": [
    "### 2.列表"
   ]
  },
  {
   "cell_type": "code",
   "execution_count": 7,
   "metadata": {},
   "outputs": [
    {
     "name": "stdout",
     "output_type": "stream",
     "text": [
      "        0   1\n",
      "0   apple  11\n",
      "1  banana  22\n",
      "2  cherry  33\n",
      "3  durian  44\n",
      "   Fruits  number\n",
      "a   apple      11\n",
      "b  banana      22\n",
      "c  cherry      33\n",
      "d  durian      44\n"
     ]
    }
   ],
   "source": [
    "import pandas as pd\n",
    "\n",
    "list_fruits = [['apple',  11],\n",
    "               ['banana', 22],\n",
    "               ['cherry', 33],\n",
    "               ['durian', 44]]\n",
    "\n",
    "df_list1 = pd.DataFrame(list_fruits)\n",
    "df_list1.set_axis(['a','b','c','d'], axis = 'index')\n",
    "df_list1.set_axis(['Fruit','number'],axis = 'columns')\n",
    "\n",
    "df_list2 = pd.DataFrame(list_fruits,\n",
    "                        index = ['a','b','c','d'],\n",
    "                        columns = ['Fruits','number'])\n",
    "\n",
    "print(df_list1)\n",
    "print(df_list2)"
   ]
  }
 ],
 "metadata": {
  "kernelspec": {
   "display_name": "Python 3",
   "language": "python",
   "name": "python3"
  },
  "language_info": {
   "codemirror_mode": {
    "name": "ipython",
    "version": 3
   },
   "file_extension": ".py",
   "mimetype": "text/x-python",
   "name": "python",
   "nbconvert_exporter": "python",
   "pygments_lexer": "ipython3",
   "version": "3.12.5"
  }
 },
 "nbformat": 4,
 "nbformat_minor": 2
}
