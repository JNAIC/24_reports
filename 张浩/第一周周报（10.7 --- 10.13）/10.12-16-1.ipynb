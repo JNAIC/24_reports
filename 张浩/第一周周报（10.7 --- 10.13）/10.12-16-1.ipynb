{
 "cells": [
  {
   "cell_type": "markdown",
   "id": "84884080-03cb-47eb-b052-a03715b629d9",
   "metadata": {},
   "source": [
    "1.reshape()函数：numpy.reshape(a, newshape, order='C'),order表示存储的顺序，'C'是按行储存，'F'是按列储存。\n",
    "2.一维数组，行向量与列向量\n",
    "3.一维数组变二维数组\n",
    "4.一维数组变三维数组\n",
    "5.视图与副本：使用数组时，记得注意视图和副本的区别，可以用 numpy.shares_memory() 判断两个数组是否指向同一个内存。(reshape()函数返回的是一个视图)\n",
    "6.矩阵的转置：numpy.transpose() 方法和.T 属性都返回原始数组的转置，两者都返回原始数组的视图，而不是副本\n",
    "7.扁平化：ravel(), reshape(-1)返回的是一个视图，flatten()返回的是一个副本\n",
    "8.旋转，翻转数组：旋转：numpy.rot90() 的作用是将一个数组逆时针旋转 90 度，numpy.rot90() 的结果也是返回原始数组的视图，而不是副本。\n",
    "                 翻转：numpy.flip()\n",
    "9.堆叠：万能堆叠：numpy.stack() 函数将沿着指定轴将多个数组堆叠在一起，返回一个新的数组；默认轴为 axis = 0。（还分别有沿行堆叠和沿列堆叠）\n",
    "      拼接：可以用 numpy.concatenate((), axis = 0) 完成数组拼接,axis = 0沿行方向拼接\n",
    "10.重复：numpy.repeat() 重复的是分别数组中的每个元素,还可以指定具体的轴，以及不同元素重复的次数。\n",
    "         numpy.tile() 重复的是整个数组\n",
    "11.合成：numpy.block() 函数用于将多个数组沿不同的轴组合成一个分块矩阵。\n",
    "   切割：numpy.split() 函数可以将一个数组沿指定轴分割为多个子数组。numpy.split() 接受三个参数：要分割的数组、分割的索引位置、沿着哪个轴进行分割。\n",
    "   还有一些操作：附加：numpy.append()，插入：numpy.insert()，删除：numpy.delete()。"
   ]
  },
  {
   "cell_type": "code",
   "execution_count": 6,
   "id": "9365e8be-3526-403c-a228-8b78f3d8819c",
   "metadata": {},
   "outputs": [
    {
     "name": "stdout",
     "output_type": "stream",
     "text": [
      "[100   1   2   3   4   5   6   7   8   9  10  11]\n",
      "[[[100   1]\n",
      "  [  2   3]\n",
      "  [  4   5]]\n",
      "\n",
      " [[  6   7]\n",
      "  [  8   9]\n",
      "  [ 10  11]]]\n",
      "[[100   1   2   3]\n",
      " [  4   5   6   7]\n",
      " [  8   9  10  11]]\n",
      "[100   1   2   3   4   5   6   7   8   9  10  11]\n",
      "[[100   4   8]\n",
      " [  1   5   9]\n",
      " [  2   6  10]\n",
      " [  3   7  11]]\n"
     ]
    }
   ],
   "source": [
    "import numpy as np\n",
    "a = np.arange(12)\n",
    "b = np.reshape(a, (2, 3, 2))\n",
    "c = np.reshape(a, (3, 4))\n",
    "d = np.reshape(b, -1)\n",
    "e = np.reshape(a, (4, 3), order = 'F')\n",
    "b[0, 0, 0] = 100\n",
    "\n",
    "print(a)\n",
    "print(b)\n",
    "print(c)\n",
    "print(d)\n",
    "print(e)"
   ]
  },
  {
   "cell_type": "code",
   "execution_count": 16,
   "id": "0ea58bc9-3c27-4b6d-aa7f-d734b29ed612",
   "metadata": {},
   "outputs": [
    {
     "name": "stdout",
     "output_type": "stream",
     "text": [
      "[ 0  1  2  3  4  5  6  7  8  9 10 11]\n",
      "[[ 0  1  2  3  4  5]\n",
      " [ 6  7  8  9 10 11]]\n",
      "[[ 6  7  8  9 10 11]\n",
      " [ 0  1  2  3  4  5]]\n",
      "[[ 5  4  3  2  1  0]\n",
      " [11 10  9  8  7  6]]\n",
      "[[11 10  9  8  7  6]\n",
      " [ 5  4  3  2  1  0]]\n"
     ]
    }
   ],
   "source": [
    "import numpy as np\n",
    "\n",
    "a = np.array(np.arange(12))\n",
    "b = np.reshape(a, (2, 6))\n",
    "c = np.flip(b, axis = 0)#将每一行当成一个整体翻转\n",
    "d = np.flip(b, axis = 1)#将每一列当成一个整体翻转\n",
    "e = np.flip(b)#没有axis的话默认将数组沿着所有轴进行翻转\n",
    "\n",
    "print(a)\n",
    "print(b)\n",
    "print(c)\n",
    "print(d)\n",
    "print(e)"
   ]
  },
  {
   "cell_type": "code",
   "execution_count": 8,
   "id": "a9a4c564-3c31-41a5-9680-84e651459eb6",
   "metadata": {},
   "outputs": [
    {
     "name": "stdout",
     "output_type": "stream",
     "text": [
      "[0 1 2 3 4 5]\n",
      "[[0 1 2]\n",
      " [3 4 5]]\n",
      "True\n"
     ]
    }
   ],
   "source": [
    "#16-1\n",
    "import numpy as np\n",
    "\n",
    "a = np.arange(6)\n",
    "b = np.reshape(a, (2, 3), order = 'C')\n",
    "c = np.shares_memory(a, b)\n",
    "\n",
    "print(a)\n",
    "print(b)\n",
    "print(c)"
   ]
  },
  {
   "cell_type": "code",
   "execution_count": 18,
   "id": "b7797853-bc2d-4adf-9520-c4e4a5a6d3a5",
   "metadata": {},
   "outputs": [
    {
     "name": "stdout",
     "output_type": "stream",
     "text": [
      "[1 3 5 2 4 6]\n"
     ]
    }
   ],
   "source": [
    "#16-2\n",
    "import numpy as np\n",
    "\n",
    "a = np.array([[1, 2], [3, 4], [5, 6]])\n",
    "b = a.flatten(order = 'F')\n",
    "\n",
    "print(b)"
   ]
  },
  {
   "cell_type": "code",
   "execution_count": 20,
   "id": "0b8dc10b-c63b-44b8-b050-efc2808b556d",
   "metadata": {},
   "outputs": [
    {
     "name": "stdout",
     "output_type": "stream",
     "text": [
      "[[1 3 2 4]\n",
      " [5 7 6 8]]\n"
     ]
    }
   ],
   "source": [
    "#16-3\n",
    "import numpy as np\n",
    "\n",
    "a = np.array([[[1, 2], [3, 4]], [[5, 6], [7, 8]]])\n",
    "b = np.reshape(a, (2, 4), order = 'F')\n",
    "\n",
    "print(b)"
   ]
  },
  {
   "cell_type": "code",
   "execution_count": 26,
   "id": "310049fc-5814-4d36-a2bb-35bb1660914d",
   "metadata": {},
   "outputs": [
    {
     "name": "stdout",
     "output_type": "stream",
     "text": [
      "[[0.65616117]\n",
      " [0.28864737]\n",
      " [0.28078443]\n",
      " [0.95943213]\n",
      " [0.45680883]\n",
      " [0.30463598]\n",
      " [0.17587691]\n",
      " [0.02272885]\n",
      " [0.74584646]\n",
      " [0.46958939]]\n",
      "[[0.65616117 0.28864737 0.28078443 0.95943213 0.45680883 0.30463598\n",
      "  0.17587691 0.02272885 0.74584646 0.46958939]]\n"
     ]
    }
   ],
   "source": [
    "#16-4\n",
    "import numpy as np\n",
    "\n",
    "a = np.random.uniform(low = 0, high = 1, size = 10)\n",
    "b = np.reshape(a, (10, 1))\n",
    "c = np.reshape(a, (1, 10), order = 'F')\n",
    "\n",
    "print(b)\n",
    "print(c)"
   ]
  },
  {
   "cell_type": "code",
   "execution_count": 38,
   "id": "a6afb5f0-085c-429f-ad67-b9b024e1a627",
   "metadata": {},
   "outputs": [
    {
     "name": "stdout",
     "output_type": "stream",
     "text": [
      "[[  0   1   2   3   4   5   6   7   8   9  10  11]\n",
      " [ 12  13  14  15  16  17  18  19  20  21  22  23]\n",
      " [ 24  25  26  27  28  29  30  31  32  33  34  35]\n",
      " [ 36  37  38  39  40  41  42  43  44  45  46  47]\n",
      " [ 48  49  50  51  52  53  54  55  56  57  58  59]\n",
      " [ 60  61  62  63  64  65  66  67  68  69  70  71]\n",
      " [ 72  73  74  75  76  77  78  79  80  81  82  83]\n",
      " [ 84  85  86  87  88  89  90  91  92  93  94  95]\n",
      " [ 96  97  98  99 100 101 102 103 104 105 106 107]\n",
      " [108 109 110 111 112 113 114 115 116 117 118 119]\n",
      " [120 121 122 123 124 125 126 127 128 129 130 131]\n",
      " [132 133 134 135 136 137 138 139 140 141 142 143]]\n",
      "[[ 0  1  2  3  4  5  6  7  8  9 10 11]\n",
      " [12 13 14 15 16 17 18 19 20 21 22 23]\n",
      " [24 25 26 27 28 29 30 31 32 33 34 35]\n",
      " [36 37 38 39 40 41 42 43 44 45 46 47]]\n",
      "[[48 49 50 51 52 53 54 55 56 57 58 59]\n",
      " [60 61 62 63 64 65 66 67 68 69 70 71]\n",
      " [72 73 74 75 76 77 78 79 80 81 82 83]\n",
      " [84 85 86 87 88 89 90 91 92 93 94 95]]\n",
      "[[ 96  97  98  99 100 101 102 103 104 105 106 107]\n",
      " [108 109 110 111 112 113 114 115 116 117 118 119]\n",
      " [120 121 122 123 124 125 126 127 128 129 130 131]\n",
      " [132 133 134 135 136 137 138 139 140 141 142 143]]\n",
      "[[  0   1   2   3]\n",
      " [ 12  13  14  15]\n",
      " [ 24  25  26  27]\n",
      " [ 36  37  38  39]\n",
      " [ 48  49  50  51]\n",
      " [ 60  61  62  63]\n",
      " [ 72  73  74  75]\n",
      " [ 84  85  86  87]\n",
      " [ 96  97  98  99]\n",
      " [108 109 110 111]\n",
      " [120 121 122 123]\n",
      " [132 133 134 135]]\n",
      "[[  4   5   6   7]\n",
      " [ 16  17  18  19]\n",
      " [ 28  29  30  31]\n",
      " [ 40  41  42  43]\n",
      " [ 52  53  54  55]\n",
      " [ 64  65  66  67]\n",
      " [ 76  77  78  79]\n",
      " [ 88  89  90  91]\n",
      " [100 101 102 103]\n",
      " [112 113 114 115]\n",
      " [124 125 126 127]\n",
      " [136 137 138 139]]\n",
      "[[  8   9  10  11]\n",
      " [ 20  21  22  23]\n",
      " [ 32  33  34  35]\n",
      " [ 44  45  46  47]\n",
      " [ 56  57  58  59]\n",
      " [ 68  69  70  71]\n",
      " [ 80  81  82  83]\n",
      " [ 92  93  94  95]\n",
      " [104 105 106 107]\n",
      " [116 117 118 119]\n",
      " [128 129 130 131]\n",
      " [140 141 142 143]]\n"
     ]
    }
   ],
   "source": [
    "#16-5\n",
    "import numpy as np\n",
    "\n",
    "# a = np.random.uniform(low = 0, high = 1, size = 144)\n",
    "a = np.arange(144)\n",
    "b = np.reshape(a, (12,12))\n",
    "c = np.split(b, 3, axis = 0)\n",
    "d = np.split(b, 3, axis = 1)\n",
    "\n",
    "print(b)\n",
    "for i in range(3):\n",
    "    print(c[i])\n",
    "for i in range(3):\n",
    "    print(d[i])"
   ]
  },
  {
   "cell_type": "code",
   "execution_count": 66,
   "id": "c81a0105-41dd-4c65-8452-854cbc97b7f3",
   "metadata": {},
   "outputs": [
    {
     "name": "stdout",
     "output_type": "stream",
     "text": [
      "[[0 1 2]\n",
      " [3 4 5]]\n",
      "[[ 6  7  8]\n",
      " [ 9 10 11]]\n",
      "[[ 0  1  2]\n",
      " [ 3  4  5]\n",
      " [ 6  7  8]\n",
      " [ 9 10 11]]\n",
      "[[ 0  1  2  6  7  8]\n",
      " [ 3  4  5  9 10 11]]\n"
     ]
    }
   ],
   "source": [
    "#16-6\n",
    "import numpy as np\n",
    "\n",
    "a = np.arange(40)\n",
    "b = np.reshape(a[:6], (2, 3))\n",
    "c = np.reshape(a[6:12], (2, 3))\n",
    "d = np.concatenate((b, c), axis = 0)\n",
    "e = np.concatenate((b, c), axis = 1)\n",
    "# d = np.stack((b, c), axis = 0)\n",
    "# e = np.stack((b, c), axis = 1)\n",
    "# f = np.stack((b, c), axis = 2)\n",
    "\n",
    "print(b)\n",
    "print(c)\n",
    "print(d)\n",
    "print(e)\n",
    "# print(f)"
   ]
  },
  {
   "cell_type": "code",
   "execution_count": null,
   "id": "79250ce2-1af4-4f3e-8b1d-c5f49c80543c",
   "metadata": {},
   "outputs": [],
   "source": []
  }
 ],
 "metadata": {
  "kernelspec": {
   "display_name": "Python 3 (ipykernel)",
   "language": "python",
   "name": "python3"
  },
  "language_info": {
   "codemirror_mode": {
    "name": "ipython",
    "version": 3
   },
   "file_extension": ".py",
   "mimetype": "text/x-python",
   "name": "python",
   "nbconvert_exporter": "python",
   "pygments_lexer": "ipython3",
   "version": "3.12.4"
  }
 },
 "nbformat": 4,
 "nbformat_minor": 5
}
