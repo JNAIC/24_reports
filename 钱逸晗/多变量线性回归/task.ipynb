{
 "cells": [
  {
   "cell_type": "code",
   "execution_count": 16,
   "metadata": {},
   "outputs": [],
   "source": [
    "import matplotlib.pyplot as plt\n",
    "import numpy as np\n",
    "import pandas as pd"
   ]
  },
  {
   "cell_type": "code",
   "execution_count": 17,
   "metadata": {},
   "outputs": [
    {
     "data": {
      "text/html": [
       "<div>\n",
       "<style scoped>\n",
       "    .dataframe tbody tr th:only-of-type {\n",
       "        vertical-align: middle;\n",
       "    }\n",
       "\n",
       "    .dataframe tbody tr th {\n",
       "        vertical-align: top;\n",
       "    }\n",
       "\n",
       "    .dataframe thead th {\n",
       "        text-align: right;\n",
       "    }\n",
       "</style>\n",
       "<table border=\"1\" class=\"dataframe\">\n",
       "  <thead>\n",
       "    <tr style=\"text-align: right;\">\n",
       "      <th></th>\n",
       "      <th>wechat</th>\n",
       "      <th>weibo</th>\n",
       "      <th>others</th>\n",
       "      <th>sales</th>\n",
       "    </tr>\n",
       "  </thead>\n",
       "  <tbody>\n",
       "    <tr>\n",
       "      <th>0</th>\n",
       "      <td>304.4</td>\n",
       "      <td>93.6</td>\n",
       "      <td>294.4</td>\n",
       "      <td>9.7</td>\n",
       "    </tr>\n",
       "    <tr>\n",
       "      <th>1</th>\n",
       "      <td>1011.9</td>\n",
       "      <td>34.4</td>\n",
       "      <td>398.4</td>\n",
       "      <td>16.7</td>\n",
       "    </tr>\n",
       "    <tr>\n",
       "      <th>2</th>\n",
       "      <td>1091.1</td>\n",
       "      <td>32.8</td>\n",
       "      <td>295.2</td>\n",
       "      <td>17.3</td>\n",
       "    </tr>\n",
       "    <tr>\n",
       "      <th>3</th>\n",
       "      <td>85.5</td>\n",
       "      <td>173.6</td>\n",
       "      <td>403.2</td>\n",
       "      <td>7.0</td>\n",
       "    </tr>\n",
       "    <tr>\n",
       "      <th>4</th>\n",
       "      <td>1047.0</td>\n",
       "      <td>302.4</td>\n",
       "      <td>553.6</td>\n",
       "      <td>22.1</td>\n",
       "    </tr>\n",
       "  </tbody>\n",
       "</table>\n",
       "</div>"
      ],
      "text/plain": [
       "   wechat  weibo  others  sales\n",
       "0   304.4   93.6   294.4    9.7\n",
       "1  1011.9   34.4   398.4   16.7\n",
       "2  1091.1   32.8   295.2   17.3\n",
       "3    85.5  173.6   403.2    7.0\n",
       "4  1047.0  302.4   553.6   22.1"
      ]
     },
     "execution_count": 17,
     "metadata": {},
     "output_type": "execute_result"
    }
   ],
   "source": [
    "datapath='advertising.csv'\n",
    "df = pd.read_csv(datapath, encoding=\"gbk\")\n",
    "df.head()"
   ]
  },
  {
   "cell_type": "code",
   "execution_count": 18,
   "metadata": {},
   "outputs": [
    {
     "data": {
      "text/html": [
       "<div>\n",
       "<style scoped>\n",
       "    .dataframe tbody tr th:only-of-type {\n",
       "        vertical-align: middle;\n",
       "    }\n",
       "\n",
       "    .dataframe tbody tr th {\n",
       "        vertical-align: top;\n",
       "    }\n",
       "\n",
       "    .dataframe thead th {\n",
       "        text-align: right;\n",
       "    }\n",
       "</style>\n",
       "<table border=\"1\" class=\"dataframe\">\n",
       "  <thead>\n",
       "    <tr style=\"text-align: right;\">\n",
       "      <th></th>\n",
       "      <th>wechat</th>\n",
       "      <th>weibo</th>\n",
       "      <th>others</th>\n",
       "      <th>sales</th>\n",
       "    </tr>\n",
       "  </thead>\n",
       "  <tbody>\n",
       "    <tr>\n",
       "      <th>count</th>\n",
       "      <td>200.000000</td>\n",
       "      <td>200.000000</td>\n",
       "      <td>200.000000</td>\n",
       "      <td>200.000000</td>\n",
       "    </tr>\n",
       "    <tr>\n",
       "      <th>mean</th>\n",
       "      <td>669.046500</td>\n",
       "      <td>186.112000</td>\n",
       "      <td>244.432000</td>\n",
       "      <td>15.130500</td>\n",
       "    </tr>\n",
       "    <tr>\n",
       "      <th>std</th>\n",
       "      <td>390.638071</td>\n",
       "      <td>118.774473</td>\n",
       "      <td>174.228967</td>\n",
       "      <td>5.283892</td>\n",
       "    </tr>\n",
       "    <tr>\n",
       "      <th>min</th>\n",
       "      <td>3.200000</td>\n",
       "      <td>0.000000</td>\n",
       "      <td>2.400000</td>\n",
       "      <td>1.600000</td>\n",
       "    </tr>\n",
       "    <tr>\n",
       "      <th>25%</th>\n",
       "      <td>338.425000</td>\n",
       "      <td>79.800000</td>\n",
       "      <td>102.000000</td>\n",
       "      <td>11.000000</td>\n",
       "    </tr>\n",
       "    <tr>\n",
       "      <th>50%</th>\n",
       "      <td>681.350000</td>\n",
       "      <td>183.200000</td>\n",
       "      <td>206.000000</td>\n",
       "      <td>16.000000</td>\n",
       "    </tr>\n",
       "    <tr>\n",
       "      <th>75%</th>\n",
       "      <td>995.675000</td>\n",
       "      <td>292.200000</td>\n",
       "      <td>360.800000</td>\n",
       "      <td>19.050000</td>\n",
       "    </tr>\n",
       "    <tr>\n",
       "      <th>max</th>\n",
       "      <td>1348.600000</td>\n",
       "      <td>396.800000</td>\n",
       "      <td>912.000000</td>\n",
       "      <td>27.000000</td>\n",
       "    </tr>\n",
       "  </tbody>\n",
       "</table>\n",
       "</div>"
      ],
      "text/plain": [
       "            wechat       weibo      others       sales\n",
       "count   200.000000  200.000000  200.000000  200.000000\n",
       "mean    669.046500  186.112000  244.432000   15.130500\n",
       "std     390.638071  118.774473  174.228967    5.283892\n",
       "min       3.200000    0.000000    2.400000    1.600000\n",
       "25%     338.425000   79.800000  102.000000   11.000000\n",
       "50%     681.350000  183.200000  206.000000   16.000000\n",
       "75%     995.675000  292.200000  360.800000   19.050000\n",
       "max    1348.600000  396.800000  912.000000   27.000000"
      ]
     },
     "execution_count": 18,
     "metadata": {},
     "output_type": "execute_result"
    }
   ],
   "source": [
    "df.describe()"
   ]
  },
  {
   "cell_type": "code",
   "execution_count": 19,
   "metadata": {},
   "outputs": [],
   "source": [
    "def normalize_feature(df):\n",
    "    return (df-df.mean())/df.std()"
   ]
  },
  {
   "cell_type": "code",
   "execution_count": 20,
   "metadata": {},
   "outputs": [
    {
     "data": {
      "text/html": [
       "<div>\n",
       "<style scoped>\n",
       "    .dataframe tbody tr th:only-of-type {\n",
       "        vertical-align: middle;\n",
       "    }\n",
       "\n",
       "    .dataframe tbody tr th {\n",
       "        vertical-align: top;\n",
       "    }\n",
       "\n",
       "    .dataframe thead th {\n",
       "        text-align: right;\n",
       "    }\n",
       "</style>\n",
       "<table border=\"1\" class=\"dataframe\">\n",
       "  <thead>\n",
       "    <tr style=\"text-align: right;\">\n",
       "      <th></th>\n",
       "      <th>wechat</th>\n",
       "      <th>weibo</th>\n",
       "      <th>others</th>\n",
       "      <th>sales</th>\n",
       "    </tr>\n",
       "  </thead>\n",
       "  <tbody>\n",
       "    <tr>\n",
       "      <th>0</th>\n",
       "      <td>-0.933464</td>\n",
       "      <td>-0.778888</td>\n",
       "      <td>0.286795</td>\n",
       "      <td>-1.027746</td>\n",
       "    </tr>\n",
       "    <tr>\n",
       "      <th>1</th>\n",
       "      <td>0.877676</td>\n",
       "      <td>-1.277311</td>\n",
       "      <td>0.883711</td>\n",
       "      <td>0.297035</td>\n",
       "    </tr>\n",
       "    <tr>\n",
       "      <th>2</th>\n",
       "      <td>1.080421</td>\n",
       "      <td>-1.290782</td>\n",
       "      <td>0.291387</td>\n",
       "      <td>0.410587</td>\n",
       "    </tr>\n",
       "    <tr>\n",
       "      <th>3</th>\n",
       "      <td>-1.493829</td>\n",
       "      <td>-0.105343</td>\n",
       "      <td>0.911261</td>\n",
       "      <td>-1.538733</td>\n",
       "    </tr>\n",
       "    <tr>\n",
       "      <th>4</th>\n",
       "      <td>0.967529</td>\n",
       "      <td>0.979066</td>\n",
       "      <td>1.774493</td>\n",
       "      <td>1.319009</td>\n",
       "    </tr>\n",
       "  </tbody>\n",
       "</table>\n",
       "</div>"
      ],
      "text/plain": [
       "     wechat     weibo    others     sales\n",
       "0 -0.933464 -0.778888  0.286795 -1.027746\n",
       "1  0.877676 -1.277311  0.883711  0.297035\n",
       "2  1.080421 -1.290782  0.291387  0.410587\n",
       "3 -1.493829 -0.105343  0.911261 -1.538733\n",
       "4  0.967529  0.979066  1.774493  1.319009"
      ]
     },
     "execution_count": 20,
     "metadata": {},
     "output_type": "execute_result"
    }
   ],
   "source": [
    "df = normalize_feature(df)\n",
    "df.head()"
   ]
  },
  {
   "cell_type": "code",
   "execution_count": 21,
   "metadata": {},
   "outputs": [
    {
     "data": {
      "text/html": [
       "<div>\n",
       "<style scoped>\n",
       "    .dataframe tbody tr th:only-of-type {\n",
       "        vertical-align: middle;\n",
       "    }\n",
       "\n",
       "    .dataframe tbody tr th {\n",
       "        vertical-align: top;\n",
       "    }\n",
       "\n",
       "    .dataframe thead th {\n",
       "        text-align: right;\n",
       "    }\n",
       "</style>\n",
       "<table border=\"1\" class=\"dataframe\">\n",
       "  <thead>\n",
       "    <tr style=\"text-align: right;\">\n",
       "      <th></th>\n",
       "      <th>ones</th>\n",
       "      <th>wechat</th>\n",
       "      <th>weibo</th>\n",
       "      <th>others</th>\n",
       "      <th>sales</th>\n",
       "    </tr>\n",
       "  </thead>\n",
       "  <tbody>\n",
       "    <tr>\n",
       "      <th>0</th>\n",
       "      <td>1</td>\n",
       "      <td>-0.933464</td>\n",
       "      <td>-0.778888</td>\n",
       "      <td>0.286795</td>\n",
       "      <td>-1.027746</td>\n",
       "    </tr>\n",
       "    <tr>\n",
       "      <th>1</th>\n",
       "      <td>1</td>\n",
       "      <td>0.877676</td>\n",
       "      <td>-1.277311</td>\n",
       "      <td>0.883711</td>\n",
       "      <td>0.297035</td>\n",
       "    </tr>\n",
       "    <tr>\n",
       "      <th>2</th>\n",
       "      <td>1</td>\n",
       "      <td>1.080421</td>\n",
       "      <td>-1.290782</td>\n",
       "      <td>0.291387</td>\n",
       "      <td>0.410587</td>\n",
       "    </tr>\n",
       "    <tr>\n",
       "      <th>3</th>\n",
       "      <td>1</td>\n",
       "      <td>-1.493829</td>\n",
       "      <td>-0.105343</td>\n",
       "      <td>0.911261</td>\n",
       "      <td>-1.538733</td>\n",
       "    </tr>\n",
       "    <tr>\n",
       "      <th>4</th>\n",
       "      <td>1</td>\n",
       "      <td>0.967529</td>\n",
       "      <td>0.979066</td>\n",
       "      <td>1.774493</td>\n",
       "      <td>1.319009</td>\n",
       "    </tr>\n",
       "  </tbody>\n",
       "</table>\n",
       "</div>"
      ],
      "text/plain": [
       "   ones    wechat     weibo    others     sales\n",
       "0     1 -0.933464 -0.778888  0.286795 -1.027746\n",
       "1     1  0.877676 -1.277311  0.883711  0.297035\n",
       "2     1  1.080421 -1.290782  0.291387  0.410587\n",
       "3     1 -1.493829 -0.105343  0.911261 -1.538733\n",
       "4     1  0.967529  0.979066  1.774493  1.319009"
      ]
     },
     "execution_count": 21,
     "metadata": {},
     "output_type": "execute_result"
    }
   ],
   "source": [
    "df.insert(0,'ones',1)\n",
    "df.head()"
   ]
  },
  {
   "cell_type": "code",
   "execution_count": 22,
   "metadata": {},
   "outputs": [],
   "source": [
    "X=df.iloc[:,0:-1]\n",
    "Y=df.iloc[:,-1]"
   ]
  },
  {
   "cell_type": "code",
   "execution_count": 23,
   "metadata": {},
   "outputs": [],
   "source": [
    "X = X.values\n",
    "Y = Y.values\n",
    "Y=Y.reshape(200,1)"
   ]
  },
  {
   "cell_type": "markdown",
   "metadata": {},
   "source": [
    "### 损失函数"
   ]
  },
  {
   "cell_type": "code",
   "execution_count": 24,
   "metadata": {},
   "outputs": [],
   "source": [
    "def costfunction(X,Y,theta):\n",
    "    inner = np.power(X @ theta-Y,2)\n",
    "    return np.sum(inner/(2*len(X)))"
   ]
  },
  {
   "cell_type": "code",
   "execution_count": 25,
   "metadata": {},
   "outputs": [
    {
     "data": {
      "text/plain": [
       "array([[0.],\n",
       "       [0.],\n",
       "       [0.],\n",
       "       [0.]])"
      ]
     },
     "execution_count": 25,
     "metadata": {},
     "output_type": "execute_result"
    }
   ],
   "source": [
    "theta=np.zeros((4,1))\n",
    "theta"
   ]
  },
  {
   "cell_type": "code",
   "execution_count": 26,
   "metadata": {},
   "outputs": [],
   "source": [
    "cost_init=costfunction(X,Y,theta)"
   ]
  },
  {
   "cell_type": "code",
   "execution_count": 27,
   "metadata": {},
   "outputs": [
    {
     "name": "stdout",
     "output_type": "stream",
     "text": [
      "0.49749999999999994\n"
     ]
    }
   ],
   "source": [
    "print(cost_init)"
   ]
  },
  {
   "cell_type": "markdown",
   "metadata": {},
   "source": [
    "### 梯度下降函数"
   ]
  },
  {
   "cell_type": "code",
   "execution_count": 28,
   "metadata": {},
   "outputs": [],
   "source": [
    "def tiduxiajiang(X,Y,theta,alpha,iters):\n",
    "    costs = []\n",
    "    for i in range(iters):\n",
    "        theta = theta -(X.T @ (X@theta - Y))* alpha/len(X)\n",
    "        cost = costfunction(X,Y,theta)\n",
    "        costs.append(cost)\n",
    "        if i%100 ==0:\n",
    "            print(cost)\n",
    "    return theta,costs"
   ]
  },
  {
   "cell_type": "code",
   "execution_count": 29,
   "metadata": {},
   "outputs": [
    {
     "name": "stdout",
     "output_type": "stream",
     "text": [
      "0.4956024824362752\n",
      "0.3419917921860433\n",
      "0.24210457969487453\n",
      "0.17680799594755037\n",
      "0.1339089631053839\n",
      "0.1055907471997751\n",
      "0.08681335302902492\n",
      "0.07430920846500055\n",
      "0.0659487236137176\n",
      "0.060337068927705614\n",
      "0.05655638233755669\n",
      "0.054000005443975596\n",
      "0.05226530704510534\n",
      "0.05108402294498819\n",
      "0.05027675499033854\n",
      "0.04972311186521053\n",
      "0.04934202891265988\n",
      "0.0490787440013004\n",
      "0.04889614542592455\n",
      "0.04876900369120323\n"
     ]
    }
   ],
   "source": [
    "alpha=0.002\n",
    "iters=2000\n",
    "theta,costs=tiduxiajiang(X,Y,theta,alpha,iters)"
   ]
  },
  {
   "cell_type": "markdown",
   "metadata": {},
   "source": [
    "### 最后的结果"
   ]
  },
  {
   "cell_type": "code",
   "execution_count": 30,
   "metadata": {},
   "outputs": [
    {
     "data": {
      "text/plain": [
       "array([[-1.27289290e-16],\n",
       "       [ 8.68279868e-01],\n",
       "       [ 2.90355634e-01],\n",
       "       [ 1.41935758e-02]])"
      ]
     },
     "execution_count": 30,
     "metadata": {},
     "output_type": "execute_result"
    }
   ],
   "source": [
    "theta"
   ]
  }
 ],
 "metadata": {
  "kernelspec": {
   "display_name": "base",
   "language": "python",
   "name": "python3"
  },
  "language_info": {
   "codemirror_mode": {
    "name": "ipython",
    "version": 3
   },
   "file_extension": ".py",
   "mimetype": "text/x-python",
   "name": "python",
   "nbconvert_exporter": "python",
   "pygments_lexer": "ipython3",
   "version": "3.12.4"
  }
 },
 "nbformat": 4,
 "nbformat_minor": 2
}
