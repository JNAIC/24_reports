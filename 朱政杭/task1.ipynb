{
 "cells": [
  {
   "cell_type": "code",
   "execution_count": null,
   "metadata": {
    "collapsed": true
   },
   "outputs": [],
   "source": [
    "import numpy as np\n",
    "import pandas as pd\n",
    "import matplotlib\n",
    "matplotlib.use('TkAgg')\n",
    "import matplotlib.pyplot as plt\n",
    "data=pd.read_csv('data.txt',header=None,names=['population','profit'])\n",
    "data.insert(0,'ones',1)\n",
    "x=data.iloc[:,0:2]\n",
    "y=data.iloc[:,-1]\n",
    "x=np.array(x)\n",
    "y=np.array(y)\n",
    "y=y.reshape(97,1)\n",
    "def costFunction(x,y,theta):\n",
    "    inner=np.power(x.dot(theta)-y,2)\n",
    "    return np.sum(inner)/2*len(x)\n",
    "def gradientDescent(x,y,theta,alpha,iters):\n",
    "    costs=[]\n",
    "    for i in range(iters):\n",
    "        theta=theta-x.T@(x@theta-y)*alpha/len(x)\n",
    "        cost=costFunction(x,y, theta)\n",
    "        costs.append(cost)\n",
    "    return theta,costs\n",
    "alpha=0.02\n",
    "iters=2000\n",
    "theta=np.zeros((2,1))\n",
    "theta,costs=gradientDescent(x,y,theta,alpha,iters)\n",
    "x_=np.linspace(y.min(),y.max(),100)\n",
    "y_=theta[0,0]+theta[1,0]*x_\n",
    "plt.scatter(x[:,1],y,label='trainning data',c='b',s=16)\n",
    "plt.plot(x_,y_,'r',label='predict')\n",
    "plt.legend()\n",
    "plt.show()"
   ]
  },
  {
   "cell_type": "code",
   "execution_count": null,
   "outputs": [],
   "source": [],
   "metadata": {
    "collapsed": false,
    "pycharm": {
     "name": "#%%\n"
    }
   }
  },
  {
   "cell_type": "markdown",
   "source": [],
   "metadata": {
    "collapsed": false
   }
  },
  {
   "cell_type": "markdown",
   "source": [],
   "metadata": {
    "collapsed": false
   }
  }
 ],
 "metadata": {
  "kernelspec": {
   "display_name": "Python 3",
   "language": "python",
   "name": "python3"
  },
  "language_info": {
   "codemirror_mode": {
    "name": "ipython",
    "version": 2
   },
   "file_extension": ".py",
   "mimetype": "text/x-python",
   "name": "python",
   "nbconvert_exporter": "python",
   "pygments_lexer": "ipython2",
   "version": "2.7.6"
  }
 },
 "nbformat": 4,
 "nbformat_minor": 0
}